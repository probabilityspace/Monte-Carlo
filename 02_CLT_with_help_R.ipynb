{
  "nbformat": 4,
  "nbformat_minor": 0,
  "metadata": {
    "colab": {
      "provenance": [],
      "authorship_tag": "ABX9TyMVoBc01Gd562SMUvtBtyxu"
    },
    "kernelspec": {
      "name": "ir",
      "display_name": "R"
    },
    "language_info": {
      "name": "R"
    }
  },
  "cells": [
    {
      "cell_type": "markdown",
      "source": [
        "<div class=\"markdown-google-sans\">\n",
        "  <h1>Invoking the Mersenne Twister and the Central Limit Theorem</h1>\n",
        "</div>\n",
        "\n",
        "In this notebook, we will use the built-in random number generator in R (the Mersenne Twister) to generate realizations from the uniform distribution over the interval from 0 to 1. We will also see the Central Limit Theorem in action!\n",
        "\n",
        "We begin by making an array of 100,000 sampled values for the uniform(0,1) distribution. Why so many? The answer is \"Because we can!\" In this course we want to be able to see our algorithms working without being too distracted by *sampling variability*. For example, suppose that we code up a fair coin flipping algorithm and produce a sample\n",
        "\n",
        "HHTTTHTHHH.\n",
        "\n",
        "This sample has 60% \"heads\" and only 40% \"tails\". Are you ready to say that our algorithm is wrong? Indeed, this is a perfectly reasonable sample for 10 fair coin flips. By generating more values, we will get a better idea whether or not our algorithm is working without the distraction of sampling variability. Sometimes we will not have this luxury because an algorithm is slow. This is not one of those times."
      ],
      "metadata": {
        "id": "pzut7rtaHLWT"
      }
    },
    {
      "cell_type": "code",
      "execution_count": null,
      "metadata": {
        "id": "E9pUSKWQG8or"
      },
      "outputs": [],
      "source": [
        "# Use runif command to produce 100,000 realizations\n",
        "# of the uniform(0,1) distribution. \"r\" is for \"random\"!\n",
        "mysample <- runif(100000)"
      ]
    },
    {
      "cell_type": "markdown",
      "source": [
        "Now let's set up bins for a histogram. We'll break up the interval [0,1] into bins of width 0.1 by creating a sequence of numbers 0,0.1,0.2,...,1. We find that this is a good break width to show the structure in many distributions and usually start with this width unless it is \"obvious\" that it will be a bad idea. For example, if a distribution we are sampling/simulating/drawing from only produces values between 0.003 and 0.007, a bin width of 0.1 is way too wide. All sampled values will fall in in one bin and our histogram will consist of a single rectangle! We will not get to see the shape of the distribution at all. Similarly, using small bin widths when the range of values generated is large is probably also not a good idea."
      ],
      "metadata": {
        "id": "noZUkZsCIAYa"
      }
    },
    {
      "cell_type": "code",
      "source": [
        "# Define and look at breakpoints for histogram bins as 0,0.1,0.2,...,1.0\n",
        "br<-seq(0,1,0.1)\n",
        "br"
      ],
      "metadata": {
        "id": "4YZw0siQHMIQ"
      },
      "execution_count": null,
      "outputs": []
    },
    {
      "cell_type": "markdown",
      "source": [
        "We are ready to make a histogram and to superimpose the uniform (0,1) flat line pdf. To acheive the latter, we usually define an entire array of points to smoothly connect with small lines that look like a curve in the end. Here, we will just define a line between two points."
      ],
      "metadata": {
        "id": "AL3MsCEcIZGK"
      }
    },
    {
      "cell_type": "code",
      "source": [
        "# Make the histogram\n",
        "hist(mysample,breaks=br,prob=T,col=\"lightblue\")\n",
        "\n",
        "# Superimpose true pdf\n",
        "# The points (x1,y1)=(0,1) and (x2,y2)=(1,1) are defined by first giving\n",
        "# both x-coordinates and then giving both y-coordinates as vectors c(x1,x2)\n",
        "# and c(y1,y2). # For these points, it appears that we are using c(x1,y1)\n",
        "# and c(x2,y2) but we are not! :(\n",
        "lines(c(0,1),c(1,1),col=\"darkblue\",lwd=2)"
      ],
      "metadata": {
        "id": "fPPvzS2MHoZa"
      },
      "execution_count": null,
      "outputs": []
    },
    {
      "cell_type": "code",
      "source": [
        "s"
      ],
      "metadata": {
        "id": "0afISkPrMqRv"
      },
      "execution_count": null,
      "outputs": []
    },
    {
      "cell_type": "markdown",
      "source": [
        "By including \"lwd=2\", we have made the linewidth for the superimposed pdf twice as thick as the default line width. You can remove \", lwd=2\" or play with the number until you like it!\n",
        "\n",
        "Is this histogram \"flat enough\" for you? In the next lesson, we will talk about how much error to expect in the bar heights when making a histogram based on 100,000 draws even if we are generating the sampled values perfectly. You might want to repeat the last several steps of this lab to see a histogram for other samples of size 100,000.\n",
        "\n",
        "\n",
        "<hr>\n",
        "\n",
        "<h3>The Central Limit Theorem in Action</h3>\n",
        "\n",
        "The Central Limit Theorem (CLT) says that if we have a random sample (these are independent and identically distributed random variables) from any distribution with mean $\\mu$ and finite variance $\\sigma^{2}$, the sample mean $\\overline{X}$ will have roughly a normal distribution as long as the sample size is large. (There is a formal \"convergence in distribution\" result here that one would learn about in a [course on Mathematical Statistics](https://www.youtube.com/playlist?list=PLLyj1Zd4UWrOk5-wIki_oOxHJnNj0_437).) In most statistics textbooks, \"large\" means a sample of size greater than 30 or 40. The fact of the matter though is that a sample size at which you will see the normal distribution is heavily dependent on the underlying distribution. Let's try n=40 for the uniform distribution.\n",
        "\n",
        "We will create 100,000 samples of size 40 from the uniform(0,1) distribution and look at the 100,000 different realizations of the sample mean\n",
        "$$\\overline{X} = \\frac{1}{40} \\sum_{i=1}^{40} X_{i}$$\n",
        "\n",
        "Let's make an array, initialized with zeros, to hold all of the sample means."
      ],
      "metadata": {
        "id": "tJCcDiZdJgAq"
      }
    },
    {
      "cell_type": "code",
      "source": [
        "xbars<-rep(0,100000)"
      ],
      "metadata": {
        "id": "a8hMM2C9Ijng"
      },
      "execution_count": null,
      "outputs": []
    },
    {
      "cell_type": "code",
      "source": [
        "# Generate 100,000 samples. Compute and store the sample means.\n",
        "# This is a loop where i will take the values 0,1,2,...,99999.\n",
        "for (i in 1:100000){\n",
        "  mysample2 <- runif(40)\n",
        "  xbars[i] <- mean(mysample2)\n",
        "}"
      ],
      "metadata": {
        "id": "n3Qus09XKYf7"
      },
      "execution_count": null,
      "outputs": []
    },
    {
      "cell_type": "markdown",
      "source": [
        "Let's make a histogram using our already established breakpoints 0,0.1,0.2,...,1.0."
      ],
      "metadata": {
        "id": "XK7jz1QfKvzJ"
      }
    },
    {
      "cell_type": "code",
      "source": [
        "hist(xbars,prob=T,breaks=br,col=\"lightblue\")"
      ],
      "metadata": {
        "id": "GPJKeChAKdeV"
      },
      "execution_count": null,
      "outputs": []
    },
    {
      "cell_type": "markdown",
      "source": [
        "Does this look like a normal distribution to you? The resulting sample means are falling in a narrow interval. Maybe we should use smaller bin widths to see some more detail."
      ],
      "metadata": {
        "id": "IScYlxbILKbR"
      }
    },
    {
      "cell_type": "code",
      "source": [
        "br2<-seq(0,1,0.005)\n",
        "hist(xbars,prob=T,breaks=br2,col=\"lightblue\")"
      ],
      "metadata": {
        "id": "RIwpMa9xK07T"
      },
      "execution_count": null,
      "outputs": []
    },
    {
      "cell_type": "markdown",
      "source": [
        "We are wasting space here. Let's zoom in a little by defining the bins over a narrower range. You may have to adjust the endpoints if they don't capture the full range in your sample. (In this case you will get an error!) We will eventually do this \"dynamically\" so that we don't have to eyeball endpoints."
      ],
      "metadata": {
        "id": "TdSyyldLLhJw"
      }
    },
    {
      "cell_type": "code",
      "source": [
        "br3 <- seq(0.2,0.7,0.005)\n",
        "hist(xbars,prob=T,breaks=br3,col=\"lightblue\")"
      ],
      "metadata": {
        "id": "juC_p_mFLA25"
      },
      "execution_count": null,
      "outputs": []
    },
    {
      "cell_type": "markdown",
      "source": [
        "Finally, let's superimpose the appropriate normal density. Note that the mean and variance for the uniform(0,1) distribution are $\\mu=1/2$ and $\\sigma^{2}=1/12$. (Can you show this on paper?)\n",
        "\n",
        "The CLT says that we should be seeing an approximation to the normal distribution shape with $\\mu_{\\overline{X}}=\\mu$ and $\\sigma_{\\overline{X}}^{2}=\\sigma^{2}/n$. The pdf for this distribution is\n",
        "$$\n",
        "f(x) = \\frac{1}{\\sqrt{2 \\pi \\sigma_{\\overline{X}}^{2}}} \\, exp \\left[{-\\frac{1}{2 \\sigma_{\\overline{X}}^{2}}} \\left( x-\\mu_{\\overline{X}}\\right)^{2}\\right].\n",
        "$$"
      ],
      "metadata": {
        "id": "aVwvAg84L8Ug"
      }
    },
    {
      "cell_type": "code",
      "source": [
        "# Make the histogram\n",
        "br3 <- seq(0.2,0.7,0.005)\n",
        "hist(xbars,prob=T,breaks=br3,col=\"lightblue\")\n",
        "\n",
        "# Make a finely meshed sequence of points to be connected for the pdf\n",
        "x = seq(0.3,0.7,0.001)\n",
        "mu = 0.5\n",
        "sigmasq = (1/12)/40\n",
        "f = (1/sqrt(2*pi*sigmasq))*exp((-1/(2*sigmasq))*(x-mu)**2)\n",
        "\n",
        "# Add the curve to the plot\n",
        "lines(x,f,col=\"red\")"
      ],
      "metadata": {
        "id": "Eb9PRKg4Lptq"
      },
      "execution_count": null,
      "outputs": []
    },
    {
      "cell_type": "markdown",
      "source": [
        "Do you see the normal distribution, as foretold by the Central Limit Theorem, taking shape? You might want to play with the individual sample size of 40 to see if you can get better results!"
      ],
      "metadata": {
        "id": "dB7NkpPsMgNJ"
      }
    },
    {
      "cell_type": "code",
      "source": [],
      "metadata": {
        "id": "mEbGZxRaMLIR"
      },
      "execution_count": null,
      "outputs": []
    }
  ]
}