{
  "cells": [
    {
      "cell_type": "markdown",
      "metadata": {
        "id": "Nma_JWh-W-IF"
      },
      "source": [
        "<div class=\"markdown-google-sans\">\n",
        "  <h1>Welcome to Monte Carlo Methods!</h1>\n",
        "</div>\n",
        "\n",
        "This is a Jupyter notebook. It is a place to organize executable code with lots of nice annotation around it. You have likely been directed here from [youtube.com/aprobabilityspace](https://www.youtube.com/aprobabilityspace).\n",
        "\n",
        "If you are already comfortable with Python and Jupyter notebooks, you would probably prefer to switch to [this link](https://github.com/probabilityspace/Monte-Carlo/blob/main/01_histogram.ipynb) to get the straight Python code you are looking for without all of the extra tutorial stuff included here."
      ]
    },
    {
      "cell_type": "markdown",
      "metadata": {
        "id": "5fCEDCU_qrC0"
      },
      "source": [
        "<div class=\"markdown-google-sans\">\n",
        "  <h2>This is a cell.</h2>\n",
        "</div>\n",
        "\n",
        "Single-click anywhere on this sentence. You will see that it is contained in a box. This box is called a \"cell\". If you double-click, you will see the raw text (markdown) required to make this cell. Click anywhere outside of the cell to go back to nice looking text.\n"
      ]
    },
    {
      "cell_type": "markdown",
      "metadata": {
        "id": "GJBs_flRovLc"
      },
      "source": [
        "<div class=\"markdown-google-sans\">\n",
        "\n",
        "## **2+3**\n",
        "</div>\n",
        "\n",
        "We have to start somewhere. Don't worry, this will ramp up pretty quickly to where we are doing interesting things! Just below this cell is a \"code cell\". You are going to ask Python to add the numbers 2 and 3. To execute the code in the cell below, either\n",
        "- click anywhere in the cell to reveal a play button (if you don't already see one) and then click the play button\n",
        "<br>or\n",
        "-click anywhere in the cell and hit Enter on your keyboard while holding down the Shift key"
      ]
    },
    {
      "cell_type": "code",
      "execution_count": null,
      "metadata": {
        "colab": {
          "base_uri": "https://localhost:8080/"
        },
        "id": "gJr_9dXGpJ05",
        "outputId": "74390b4e-852b-4bc2-a60e-c75526cde939"
      },
      "outputs": [
        {
          "output_type": "execute_result",
          "data": {
            "text/plain": [
              "5"
            ]
          },
          "metadata": {},
          "execution_count": 4
        }
      ],
      "source": [
        "2+3"
      ]
    },
    {
      "cell_type": "markdown",
      "metadata": {
        "id": "2fhs6GZ4qFMx"
      },
      "source": [
        "Fantastic! In the next cell you will see the setup for the same calculation. Click at the end of the (line after the 3) to put your cursor in the cell. Hit Enter (**without** holding the Shift key). This will move you to the next line. On this next line, type any other sum that you would like to compute. Run the cell. What do you notice?"
      ]
    },
    {
      "cell_type": "code",
      "execution_count": null,
      "metadata": {
        "colab": {
          "base_uri": "https://localhost:8080/"
        },
        "id": "-gE-Ez1qtyIA",
        "outputId": "de6fd026-5ad5-4c6f-b27c-cb5066cf774a"
      },
      "outputs": [
        {
          "output_type": "execute_result",
          "data": {
            "text/plain": [
              "5"
            ]
          },
          "metadata": {},
          "execution_count": 5
        }
      ],
      "source": [
        "2+3"
      ]
    },
    {
      "cell_type": "markdown",
      "metadata": {
        "id": "lSrWNr3MuFUS"
      },
      "source": [
        "What you should have seen is the output from only your second line of code. Python is executing both lines but only shows the result of the last calculation by default. Go back into the cell above and change the first line from 2+3 to print(2+3). Run the cell. This should look better."
      ]
    },
    {
      "cell_type": "markdown",
      "metadata": {
        "id": "UdRyKR44dcNI"
      },
      "source": [
        "<div class=\"markdown-google-sans\">\n",
        "\n",
        "## Basic Math\n",
        "</div>\n",
        "\n",
        "Suppose we wish to calculate the square root of 5. For most programming languages, you would type sqrt(5). Try this in the next cell and run the cell. Do not be alarmed-- you will see an error message."
      ]
    },
    {
      "cell_type": "code",
      "execution_count": null,
      "metadata": {
        "colab": {
          "base_uri": "https://localhost:8080/",
          "height": 176
        },
        "id": "C4HZx7Gndbrh",
        "outputId": "bd8fcac0-11df-4c9f-b0d0-73e22b60f001"
      },
      "outputs": [
        {
          "output_type": "error",
          "ename": "NameError",
          "evalue": "ignored",
          "traceback": [
            "\u001b[0;31m---------------------------------------------------------------------------\u001b[0m",
            "\u001b[0;31mNameError\u001b[0m                                 Traceback (most recent call last)",
            "\u001b[0;32m<ipython-input-6-ef2dc5896f23>\u001b[0m in \u001b[0;36m<cell line: 1>\u001b[0;34m()\u001b[0m\n\u001b[0;32m----> 1\u001b[0;31m \u001b[0msqrt\u001b[0m\u001b[0;34m(\u001b[0m\u001b[0;36m5\u001b[0m\u001b[0;34m)\u001b[0m\u001b[0;34m\u001b[0m\u001b[0;34m\u001b[0m\u001b[0m\n\u001b[0m",
            "\u001b[0;31mNameError\u001b[0m: name 'sqrt' is not defined"
          ]
        }
      ],
      "source": [
        "sqrt(5)"
      ]
    },
    {
      "cell_type": "markdown",
      "metadata": {
        "id": "4_kCnsPUqS6o"
      },
      "source": [
        "In order to do basic math calculations in Python, we will need to import a package called \"numpy\". This stands for \"Numerical Python\". Even then, we will not be able to compute a square root by typing sqrt(5). We must instead type numpy.sqrt(5). This is clunky. To make things a little better, we will rename the package \"numpy\" to simply \"np\". (You can name it anything you want but \"np\" is pretty standard. Coding using standards is always encouraged!)\n",
        "\n",
        "Run the next cell."
      ]
    },
    {
      "cell_type": "code",
      "source": [
        "import numpy as np\n",
        "np.sqrt(5)"
      ],
      "metadata": {
        "colab": {
          "base_uri": "https://localhost:8080/"
        },
        "id": "m-YCIJSiDLXD",
        "outputId": "46b1a4ee-7df1-46cb-9c46-3be5c07e8abb"
      },
      "execution_count": null,
      "outputs": [
        {
          "output_type": "execute_result",
          "data": {
            "text/plain": [
              "2.23606797749979"
            ]
          },
          "metadata": {},
          "execution_count": 7
        }
      ]
    },
    {
      "cell_type": "markdown",
      "source": [
        "It is good form to import all packages we use into the first cell or near the top of a Jupyter notebook if your first cell has some text for an introduction. By the way, you can add a text cell or a code cell at any time by going up to the Insert menu above. This will insert a new cell just below the one where you have the active cursor. Let's try it. Single click on this text cell to make it the active cell, open the Insert menu, and select either \"Code cell\" or \"Text cell\". Woot!"
      ],
      "metadata": {
        "id": "m0ZSE6fqDUKi"
      }
    },
    {
      "cell_type": "markdown",
      "metadata": {
        "id": "OwuxHmxllTwN"
      },
      "source": [
        "<div class=\"markdown-google-sans\">\n",
        "\n",
        "## The Histogram\n",
        "</div>\n",
        "\n",
        "We will begin by loading a plotting package/library called \"pyplot\" that is part of another package/library called \"matplotlib\". Run the cell below. Again, this statement would usually be at the top of the Jupyter notebook with all other import statements."
      ]
    },
    {
      "cell_type": "code",
      "execution_count": null,
      "metadata": {
        "id": "xpSKr7hDSH6W"
      },
      "outputs": [],
      "source": [
        "import matplotlib.pyplot as plt"
      ]
    },
    {
      "cell_type": "markdown",
      "metadata": {
        "id": "ufxBm1yRnruN"
      },
      "source": [
        "Let's now generate 100,000 values from the exponential distribution with rate 2.2. We are going to do this with a \"black box function\" from numpy. That is, we're going to ask for exponentials and we're going to magically get exponentials. The point of this simulation course is to know what is going on \"under the hood\", but the point of this particular notebook is just to make the histogram. So, black box it is... for now.\n",
        "\n",
        "Run the next cell."
      ]
    },
    {
      "cell_type": "code",
      "source": [
        "# Generate exponentials with rate 2 with built-in \"black box\"\n",
        "rate = 2.2\n",
        "mysample = np.random.exponential(1/rate,100000)"
      ],
      "metadata": {
        "id": "DSZJd5sCHNpP"
      },
      "execution_count": null,
      "outputs": []
    },
    {
      "cell_type": "markdown",
      "source": [
        "Lines started with hashtags are comment lines. They appear green and are not part of the code. Comments help you keep track of what you are doing in a particular cell and are essential if you are sharing your Jupyter notebooks with others!\n",
        "\n",
        "In the cell above, we went into a package called \"random\" that is found within the numpy library. The function \"exponential\" takes two arguments. The first is **the mean** parameter for the exponential distribution and the second is the number of values you wish to generate. Here, we have created an array of numbers called \"mysample\".\n",
        "\n",
        "Let's check the length of the output by running the next cell."
      ],
      "metadata": {
        "id": "jVfSZJK1HZ7L"
      }
    },
    {
      "cell_type": "code",
      "source": [
        "len(mysample)"
      ],
      "metadata": {
        "colab": {
          "base_uri": "https://localhost:8080/"
        },
        "id": "KUzU_dWSHY3f",
        "outputId": "268d8146-c700-477b-c490-d142d880cb8f"
      },
      "execution_count": null,
      "outputs": [
        {
          "output_type": "execute_result",
          "data": {
            "text/plain": [
              "100000"
            ]
          },
          "metadata": {},
          "execution_count": 10
        }
      ]
    },
    {
      "cell_type": "markdown",
      "source": [
        "Let's check that the rate parameter is really 2.2. Recall that the rate of the exponential distribution is one over the mean. Run the next cell."
      ],
      "metadata": {
        "id": "5x9Mp7vbI4rK"
      }
    },
    {
      "cell_type": "code",
      "source": [
        "1/np.mean(mysample)"
      ],
      "metadata": {
        "colab": {
          "base_uri": "https://localhost:8080/"
        },
        "id": "ESVEAihXIxEv",
        "outputId": "213f1c30-70a4-4b13-cc30-1c2874eafe97"
      },
      "execution_count": null,
      "outputs": [
        {
          "output_type": "execute_result",
          "data": {
            "text/plain": [
              "2.1941762238251856"
            ]
          },
          "metadata": {},
          "execution_count": 11
        }
      ]
    },
    {
      "cell_type": "markdown",
      "source": [
        "Does this seem right to you? An exact 95% confidence interval for the rate parameter is (2.186 , 2.214). You might add the line\n",
        "\n",
        "<code>mysample = np.random.exponential(1/rate,100000)</code>\n",
        "\n",
        "to the cell above and rerun it several time so that you can check out different values you might get for different samples!\n",
        "\n",
        ">Aside: Yes, there is rounding here for the endpoints of the confidence interval. By an \"exact\" confidence interval, we mean that this confidence interval was based on the underlying exponential distribution and not a normal approximation using the Central Limit Theorem. To construct a confidence interval like this, you need to know [Mathematical Statistics](https://www.youtube.com/playlist?list=PLLyj1Zd4UWrOk5-wIki_oOxHJnNj0_437)."
      ],
      "metadata": {
        "id": "dHDec1YzJkEZ"
      }
    },
    {
      "cell_type": "markdown",
      "source": [
        "Let's make a very crude histogram using the plotting package that we loaded and named \"plt\". Run the next cell.\n",
        "\n",
        "(Note: The second line of code is there to display the plot. If you remove it, you will still see the plot with some messy extra information before it. Also, when using multiple lines to define a plot as in the last exercise in this notebook, you will need this line!)"
      ],
      "metadata": {
        "id": "BNYCGtnxZ_Cx"
      }
    },
    {
      "cell_type": "code",
      "source": [
        "plt.hist(mysample)\n",
        "plt.show()"
      ],
      "metadata": {
        "colab": {
          "base_uri": "https://localhost:8080/",
          "height": 430
        },
        "id": "qWAJXB3_Jz6N",
        "outputId": "95967715-7d3e-4a55-8580-ddc6765880ad"
      },
      "execution_count": null,
      "outputs": [
        {
          "output_type": "display_data",
          "data": {
            "text/plain": [
              "<Figure size 640x480 with 1 Axes>"
            ],
            "image/png": "[encoded data removed]"
          },
          "metadata": {}
        }
      ]
    },
    {
      "cell_type": "markdown",
      "source": [
        "<div class=\"markdown-google-sans\">\n",
        "\n",
        "This looks positively awful for three reasons.\n",
        "\n",
        "- It is using counts rather than density on the y-axis.\n",
        "- The bins are too wide for us to see what is really going on.\n",
        "- The colors are not so nice.\n",
        "\n",
        "In the next cell, we will define the bins to be 0.1 units wide, change to density on the y-axis and change some colors. Run the next cell."
      ],
      "metadata": {
        "id": "NPztWOQHaV3I"
      }
    },
    {
      "cell_type": "code",
      "source": [
        "## Make a histogram\n",
        "\n",
        "# First define the bins by a sequence of numbers 0, 0.1, 0.2, 0.3,...\n",
        "br = np.arange(0,np.max(mysample),0.1)\n",
        "\n",
        "# Define the histogram using density, the new bins, and some colors. The \"lw\"\n",
        "# command is for \"line width\". We are using half of the standard line width\n",
        "# because we think it looks nicer. Take that part out if you want to form your\n",
        "# own opinion!\n",
        "plt.hist(mysample,bins=br,density=True,color=\"lightyellow\",ec=\"black\",lw=0.5)\n",
        "plt.show()"
      ],
      "metadata": {
        "colab": {
          "base_uri": "https://localhost:8080/",
          "height": 430
        },
        "id": "5-hr145jZvfN",
        "outputId": "b5fc09d4-eb08-4bbc-8fea-ba90140eb251"
      },
      "execution_count": null,
      "outputs": [
        {
          "output_type": "display_data",
          "data": {
            "text/plain": [
              "<Figure size 640x480 with 1 Axes>"
            ],
            "image/png": "[encoded data removed]"
          },
          "metadata": {}
        }
      ]
    },
    {
      "cell_type": "markdown",
      "source": [
        "To finish this off, we are going to overlay the true, exponential rate 2.2 probability density function."
      ],
      "metadata": {
        "id": "7cdw2rQIcpjn"
      }
    },
    {
      "cell_type": "code",
      "source": [
        "## Make a histogram\n",
        "\n",
        "# First define the bins by a sequence of numbers 0, 0.1, 0.2, 0.3,...\n",
        "br = np.arange(0,np.max(mysample),0.1)\n",
        "\n",
        "# Define the histogram using density, the new bins, and some colors. The \"lw\"\n",
        "# command is for \"line width\". We are using half of the standard line width\n",
        "# because we think it looks nicer. Take that part out if you want to form your\n",
        "# own opinion!\n",
        "plt.hist(mysample,bins=br,density=True,color=\"lightyellow\",ec=\"black\",lw=0.5)\n",
        "\n",
        "# Superimpose true pdf\n",
        "x = np.linspace(0,5,100)   # Set out some x values from 0 to 5\n",
        "f = rate*np.exp(-rate*x)   # Evaluate the pdf at each x value\n",
        "plt.plot(x,f)              # Add the line/curve to the plot.\n",
        "\n",
        "plt.show()                 # Show the plot."
      ],
      "metadata": {
        "colab": {
          "base_uri": "https://localhost:8080/",
          "height": 430
        },
        "id": "M4_tLv1qbX6A",
        "outputId": "53e1fde8-2e1c-4c6c-c4a4-142cab8fc784"
      },
      "execution_count": null,
      "outputs": [
        {
          "output_type": "display_data",
          "data": {
            "text/plain": [
              "<Figure size 640x480 with 1 Axes>"
            ],
            "image/png": "[encoded data removed]"
          },
          "metadata": {}
        }
      ]
    },
    {
      "cell_type": "markdown",
      "source": [
        "Beautiful! If you would like a clean copy of the code in this notebook without all of the extra discussion, [click here!](https://github.com/probabilityspace/Monte-Carlo/blob/main/01_histogram.ipynb)"
      ],
      "metadata": {
        "id": "DgRRavTke9i7"
      }
    },
    {
      "cell_type": "code",
      "source": [],
      "metadata": {
        "id": "oGy7OIaefRQ_"
      },
      "execution_count": null,
      "outputs": []
    }
  ],
  "metadata": {
    "colab": {
      "toc_visible": true,
      "provenance": []
    },
    "kernelspec": {
      "display_name": "Python 3",
      "name": "python3"
    }
  },
  "nbformat": 4,
  "nbformat_minor": 0
}