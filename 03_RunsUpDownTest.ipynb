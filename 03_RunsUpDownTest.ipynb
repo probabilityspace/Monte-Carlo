{
  "nbformat": 4,
  "nbformat_minor": 0,
  "metadata": {
    "colab": {
      "provenance": []
    },
    "kernelspec": {
      "name": "python3",
      "display_name": "Python 3"
    },
    "language_info": {
      "name": "python"
    }
  },
  "cells": [
    {
      "cell_type": "markdown",
      "source": [
        "<h2>The Runs Up/Down Test for Independence</h2>\n",
        "\n",
        "In this notebook, we will perform the runs up and down test for independence of the sampled values from our random number generator. As an added bonus, we'll get to see the Central Limit Theorem for this test in action!\n",
        "\n",
        "We begin by loading some required libraries."
      ],
      "metadata": {
        "id": "tI7ET3mEwVv5"
      }
    },
    {
      "cell_type": "code",
      "execution_count": null,
      "metadata": {
        "id": "fXm-yrmLPXWV"
      },
      "outputs": [],
      "source": [
        "# Load required libraries\n",
        "import numpy as np\n",
        "import matplotlib.pyplot as plt"
      ]
    },
    {
      "cell_type": "markdown",
      "source": [
        "Next, we will generate a sample of size 100,000 from the uniform distribution on the interval (0,1) using the built-in random number generator."
      ],
      "metadata": {
        "id": "-v6pfNoXxWy4"
      }
    },
    {
      "cell_type": "code",
      "source": [
        "mysample = np.random.uniform(0,1,100000)"
      ],
      "metadata": {
        "id": "krcIV3DCPdua"
      },
      "execution_count": null,
      "outputs": []
    },
    {
      "cell_type": "markdown",
      "source": [
        "We could start a \"for loop\" to run over the sample while checking inequalities but there is a more efficient way to count the runs up and down.\n",
        "\n",
        "Let's make a vector of differences between consecutive values in mysample with a built-in \"diff\" function from the numpy library."
      ],
      "metadata": {
        "id": "vsAX2x8ZxjxB"
      }
    },
    {
      "cell_type": "code",
      "source": [
        "# Make vector of differences x[1]-x[0], x[2]-x[1], ...,x[n]-x[n-1]\n",
        "diffs = np.diff(mysample)\n",
        "print(mysample[0:5])    # Show a few values\n",
        "print(diffs[0:5])        # Show a few values"
      ],
      "metadata": {
        "id": "-RmVKtadyxd6"
      },
      "execution_count": null,
      "outputs": []
    },
    {
      "cell_type": "markdown",
      "source": [
        "Numpy has a function called \"sign\" that will go through an array, returning a +1 if an entry is positive, and a -1 if an entry is negative."
      ],
      "metadata": {
        "id": "hYya9TqIzt4G"
      }
    },
    {
      "cell_type": "code",
      "source": [
        "# Check out a few values from np.sign\n",
        "np.sign(diffs)[0:5]"
      ],
      "metadata": {
        "id": "qEb39Qc4z2M9"
      },
      "execution_count": null,
      "outputs": []
    },
    {
      "cell_type": "markdown",
      "source": [
        "Compare this vector with the values in \"mysample\". A \"-1\" corresponds to a decrease when running through the sample and a \"+1\" corresponds to an increase. To count the up/down runs, we are interested in the places where there is a change from increasing to decreasing or vice versa. That is, we want to know how many times the signs in this $\\pm 1$ vector changes. To find this, we will  take differences again and store the result in an array called \"changes\"."
      ],
      "metadata": {
        "id": "Iesto7ZV1XcW"
      }
    },
    {
      "cell_type": "code",
      "source": [
        "# Find the consecutive differences in the sign of the difference vector!\n",
        "changes = np.diff(np.sign(diffs))\n",
        "changes[0:5]"
      ],
      "metadata": {
        "id": "aReTld2AzVTB"
      },
      "execution_count": null,
      "outputs": []
    },
    {
      "cell_type": "markdown",
      "source": [
        "This array is filled with the values -2, 0, and 2. The value 2 comes from 1-(-1). This means that we had an increase in mysample followed by a decrease and corresponds to a new run down starting. The -2 comes from -1-(+1). This means that we had a decrease in mysample followed by an increase, which corresponds to a new run up starting. Seeing a 0 means that we either had an increase followed by a increase or a decrease followed by a decrease and no run is starting. To get the total number of runs in the sample, we need to count the total number of non-zero entries of \"changes\".\n",
        "We will use the \"where\" function to find the indices of the non-zero entries of \"changes\". (Remember, arrays in Python are indexed starting from zero.)"
      ],
      "metadata": {
        "id": "p8nYU0wu6IL9"
      }
    },
    {
      "cell_type": "code",
      "source": [
        "# Indices where changes is non-zero.\n",
        "np.where(changes != 0)"
      ],
      "metadata": {
        "id": "tBinPpQ55ZeA"
      },
      "execution_count": null,
      "outputs": []
    },
    {
      "cell_type": "markdown",
      "source": [
        "Notice how the last array produced is inside parentheses. This is because the \"np.where\" function returns the array of indices as the first component in a more complicated data structure called a \"tuple\". A tuple is like a container that can hold many pieces of data of various types. Here, there is only one thing inside the tuple and we want it out!\n",
        "\n",
        "We pull the first (and only) element from the tuple the same way we would pull the first element out of an array."
      ],
      "metadata": {
        "id": "psvqbKnd7jIp"
      }
    },
    {
      "cell_type": "code",
      "source": [
        "# Indices where changes is non-zero.\n",
        "np.where(changes != 0)[0]"
      ],
      "metadata": {
        "id": "vEymKnv89ukt"
      },
      "execution_count": null,
      "outputs": []
    },
    {
      "cell_type": "markdown",
      "source": [
        "Notice that the extra parentheses are now gone!\n",
        "\n",
        "The number of up/down runs in the sample is given by the length of this array plus 1. The \"plus 1\" corresponds to the fact that we always start a run at the beginning of the sample. (If you watched the video explanation for this, the \"plus 1\" corresponds to adding $I_{1}=1$ to $\\sum_{i=2}^{n-1} I_{i}$.)"
      ],
      "metadata": {
        "id": "6zGEzrQf91SZ"
      }
    },
    {
      "cell_type": "code",
      "source": [
        "numruns  = len(np.where(changes != 0)[0]) + 1\n",
        "numruns"
      ],
      "metadata": {
        "id": "M5irGwhUArEq"
      },
      "execution_count": null,
      "outputs": []
    },
    {
      "cell_type": "markdown",
      "source": [
        "Let's return this number of runs with a pretty statement around it. We'll need to turn the integer \"numruns\" into a string and we will put some words before and after the result by concatenating strings using \"+\"."
      ],
      "metadata": {
        "id": "QztTJVjwhuIq"
      }
    },
    {
      "cell_type": "code",
      "source": [
        "print('The number of up/down runs in this sample is ' + str(numruns) + '.')"
      ],
      "metadata": {
        "id": "SIl4HmOkhmuC"
      },
      "execution_count": null,
      "outputs": []
    },
    {
      "cell_type": "markdown",
      "source": [
        "So far, we have generated a random sample of size 100,000 and counted the number of up/down runs. Let's repeat the process many times so we can get a sense of how the number will change from sample to sample. We are going to generate 100,000 values of $R_{100,000}$. This will take a few minutes so be patient!"
      ],
      "metadata": {
        "id": "qqXkq_NNiTXT"
      }
    },
    {
      "cell_type": "code",
      "source": [
        "numruns = np.zeros(100000)\n",
        "for i in range(100000):\n",
        "  mysample = np.random.uniform(0,1,100000)\n",
        "  diffs = np.diff(mysample)\n",
        "  changes = np.diff(np.sign(diffs))\n",
        "  numruns[i] = len(np.where(changes != 0)[0]) + 1"
      ],
      "metadata": {
        "id": "__Jk_pYsTTgB"
      },
      "execution_count": null,
      "outputs": []
    },
    {
      "cell_type": "markdown",
      "source": [
        "Let's make a histogram of our results. We will superimpose the pdf of the normal distribution with mean\n",
        "$$\n",
        "\\mu = \\frac{2n-1}{3}\n",
        "$$\n",
        "and variance\n",
        "$$\n",
        "\\sigma^{2} = \\frac{16n-2}{90}.\n",
        "$$"
      ],
      "metadata": {
        "id": "qENRqLrxj0d6"
      }
    },
    {
      "cell_type": "code",
      "source": [
        "br = np.arange(np.min(numruns)-0.5,np.max(numruns)+0.5,30)\n",
        "plt.hist(numruns,bins=br,density=True,color=\"lightyellow\",ec=\"black\",lw=0.5)\n",
        "\n",
        "mu = (2*100000-1)/3\n",
        "sigmasq = (16*100000-29)/90\n",
        "x = np.linspace(np.min(numruns),np.max(numruns),100)\n",
        "f = (1/np.sqrt(2*np.pi*sigmasq))*np.exp((-1/(2*sigmasq))*(x-mu)**2)\n",
        "plt.plot(x,f)\n",
        "\n",
        "plt.show()"
      ],
      "metadata": {
        "id": "tNmQjaY0WSoF"
      },
      "execution_count": null,
      "outputs": []
    },
    {
      "cell_type": "markdown",
      "source": [
        "Amazing!!!"
      ],
      "metadata": {
        "id": "DSULuTIZkQna"
      }
    },
    {
      "cell_type": "code",
      "source": [],
      "metadata": {
        "id": "_3aI_UKUZ_f2"
      },
      "execution_count": null,
      "outputs": []
    }
  ]
}