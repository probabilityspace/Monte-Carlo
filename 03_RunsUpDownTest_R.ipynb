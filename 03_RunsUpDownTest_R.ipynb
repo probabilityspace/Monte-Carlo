{
  "nbformat": 4,
  "nbformat_minor": 0,
  "metadata": {
    "colab": {
      "provenance": [],
      "authorship_tag": "ABX9TyMRSIj3BLAjbyZPwfGAqteM"
    },
    "kernelspec": {
      "name": "ir",
      "display_name": "R"
    },
    "language_info": {
      "name": "R"
    }
  },
  "cells": [
    {
      "cell_type": "markdown",
      "source": [
        "<h2>The Runs Up/Down Test for Independence</h2>\n",
        "\n",
        "In this notebook, we will perform the runs up and down test for independence of the sampled values from our random number generator. As an added bonus, we'll get to see the Central Limit Theorem for this test in action!\n",
        "\n",
        "We begin by generating a sample of size 100,000 from the uniform distribution on the interval (0,1) using the built-in random number generator."
      ],
      "metadata": {
        "id": "--ZwXdV3x8_N"
      }
    },
    {
      "cell_type": "code",
      "execution_count": null,
      "metadata": {
        "id": "WiHMbJAXxfJH"
      },
      "outputs": [],
      "source": [
        "mysample <- runif(100000)"
      ]
    },
    {
      "cell_type": "markdown",
      "source": [
        "We could start a \"for loop\" to run over the sample while checking inequalities but there is a more efficient way to count the runs up and down.\n",
        "\n",
        "Let's start by making a vector of differences between consecutive values in mysample."
      ],
      "metadata": {
        "id": "DEndVpIxye_k"
      }
    },
    {
      "cell_type": "code",
      "source": [
        "# Make vector of differences x[1]-x[0], x[2]-x[1], ...,x[n]-x[n-1]\n",
        "diffs <- diff(mysample)\n",
        "\n",
        "# Let's check out a few values.\n",
        "mysample[1:5]\n",
        "diffs[1:5]"
      ],
      "metadata": {
        "id": "_WoTay-LyWWK"
      },
      "execution_count": null,
      "outputs": []
    },
    {
      "cell_type": "markdown",
      "source": [
        "R has a function called \"sign\" that will go through an array, returning a +1 if an entry is positive, and a -1 if an entry is negative."
      ],
      "metadata": {
        "id": "KZQmmdczzSkk"
      }
    },
    {
      "cell_type": "code",
      "source": [
        "# Check out a few values from np.sign\n",
        "sign(diffs)[0:5]"
      ],
      "metadata": {
        "id": "YZPiwrNGyZpB"
      },
      "execution_count": null,
      "outputs": []
    },
    {
      "cell_type": "markdown",
      "source": [
        "Compare this vector with the values in \"mysample\". A \"-1\" corresponds to a decrease when running through the sample and a \"+1\" corresponds to an increase. To count the up/down runs, we are interested in the places where there is a change from increasing to decreasing or vice versa. That is, we want to know how many times the signs in this $\\pm 1$ vector changes. To find this, we will  take differences again and store the result in an array called \"changes\"."
      ],
      "metadata": {
        "id": "eE92__gy0RQM"
      }
    },
    {
      "cell_type": "code",
      "source": [
        "# Find the consecutive differences in the sign of the difference vector!\n",
        "changes <- diff(sign(diffs))\n",
        "changes[0:5]"
      ],
      "metadata": {
        "id": "710DXcYrykeb"
      },
      "execution_count": null,
      "outputs": []
    },
    {
      "cell_type": "markdown",
      "source": [
        "This array is filled with the values -2, 0, and 2. The value 2 comes from 1-(-1). This means that we had an increase in mysample followed by a decrease and corresponds to a new run down starting. The -2 comes from -1-(+1). This means that we had a decrease in mysample followed by an increase, which corresponds to a new run up starting. Seeing a 0 means that we either had an increase followed by a increase or a decrease followed by a decrease and no run is starting. To get the total number of runs in the sample, we need to count the total number of non-zero entries of \"changes\".\n",
        "We will use the \"which\" function to find which indices correspond to non-zero entries."
      ],
      "metadata": {
        "id": "WYN2ncu20xqD"
      }
    },
    {
      "cell_type": "code",
      "source": [
        "which(changes != 0)"
      ],
      "metadata": {
        "id": "TMZK2oU30fkg"
      },
      "execution_count": null,
      "outputs": []
    },
    {
      "cell_type": "markdown",
      "source": [
        "The number of up/down runs in the sample is given by the length of this array plus 1. The \"plus 1\" corresponds to the fact that we always start a run at the beginning of the sample. (If you watched the video explanation for this, the \"plus 1\" corresponds to adding $I_{1}=1$ to $\\sum_{i=2}^{n-1} I_{i}$.)"
      ],
      "metadata": {
        "id": "ADQkzqDT1RUs"
      }
    },
    {
      "cell_type": "code",
      "source": [
        "numruns  <- length(which(changes != 0)) + 1\n",
        "numruns"
      ],
      "metadata": {
        "id": "g5HjuNxF0ye2"
      },
      "execution_count": null,
      "outputs": []
    },
    {
      "cell_type": "markdown",
      "source": [
        "Let's return this number of runs with a pretty statement around it. We'll need to turn the integer \"numruns\" into a string and we will put some words/symbols before and after the result by using the \"paste\" function."
      ],
      "metadata": {
        "id": "QBjtNLZr1pgE"
      }
    },
    {
      "cell_type": "code",
      "source": [
        "print(paste('The number of up/down runs in this sample is',numruns,'.'))"
      ],
      "metadata": {
        "id": "1qWYQmNA18Sb"
      },
      "execution_count": null,
      "outputs": []
    },
    {
      "cell_type": "markdown",
      "source": [
        "You'll notice that the paste statement automatically puts spaces between the things being pasted together. This makes the period at the end of the sentence here look a little weird. Lets make the \"separation\" between arguments of paste an empty character with no space."
      ],
      "metadata": {
        "id": "izlmcXcv2k1j"
      }
    },
    {
      "cell_type": "code",
      "source": [
        "print(paste('The number of up/down runs in this sample is',numruns,'.',sep=''))"
      ],
      "metadata": {
        "id": "3Tkcex_n2Eif"
      },
      "execution_count": null,
      "outputs": []
    },
    {
      "cell_type": "markdown",
      "source": [
        "This fixed the gap between the number of runs and the period on the sentence, but it also took away a desired space in the sentence before the number of runs. We'll put that back in as part of the first string."
      ],
      "metadata": {
        "id": "iX8DG7ts3KKK"
      }
    },
    {
      "cell_type": "code",
      "source": [
        "print(paste('The number of up/down runs in this sample is ',numruns,'.',sep=''))"
      ],
      "metadata": {
        "id": "Ncoatwjd3HZZ"
      },
      "execution_count": null,
      "outputs": []
    },
    {
      "cell_type": "markdown",
      "source": [
        "Brilliant!\n",
        "\n",
        "So far, we have generated a random sample of size 100,000 and counted the number of up/down runs. Let's repeat the process many times so we can get a sense of how the number will change from sample to sample. We are going to generate 100,000 values of $R_{100,000}$. This will take a few minutes so be patient!"
      ],
      "metadata": {
        "id": "_jgHnllc3fFS"
      }
    },
    {
      "cell_type": "code",
      "source": [
        "numruns <- rep(0,100000)\n",
        "for (i in 1:100000){\n",
        "  mysample <- runif(100000)\n",
        "  diffs <- diff(mysample)\n",
        "  changes <- diff(sign(diffs))\n",
        "  numruns[i] <- length(which(changes != 0)) + 1\n",
        "  }"
      ],
      "metadata": {
        "id": "jdJG5vIf3dPd"
      },
      "execution_count": null,
      "outputs": []
    },
    {
      "cell_type": "markdown",
      "source": [
        "Let's make a histogram of our results. We will superimpose the pdf of the normal distribution with mean\n",
        "$$\n",
        "\\mu = \\frac{2n-1}{3}\n",
        "$$\n",
        "and variance\n",
        "$$\n",
        "\\sigma^{2} = \\frac{16n-2}{90}.\n",
        "$$"
      ],
      "metadata": {
        "id": "DUrOeWuM4fuR"
      }
    },
    {
      "cell_type": "code",
      "source": [
        "# Make a histogram with density on the y-axis.\n",
        "# (Here, the default breakpoints are going to look\n",
        "# pretty good so we won't define any.)\n",
        "hist(numruns,prob=T,col=\"lightblue\")\n",
        "\n",
        "# Define and superimpose the N(mu,sigma^2) pdf.\n",
        "mu <- (2*100000-1)/3\n",
        "sigmasq <- (16*100000-29)/90\n",
        "x<-seq(min(numruns),max(numruns),0.001)\n",
        "f<-(1/sqrt(2*pi*sigmasq))*exp((-1/(2*sigmasq))*(x-mu)^2)\n",
        "lines(x,f,lwd=2)   # lwd=2 plots the curve at twice the default thickness"
      ],
      "metadata": {
        "id": "Q4QKyyJZ4FPT"
      },
      "execution_count": null,
      "outputs": []
    },
    {
      "cell_type": "markdown",
      "source": [
        "Amazing!"
      ],
      "metadata": {
        "id": "JLCqyF5T7uJh"
      }
    },
    {
      "cell_type": "code",
      "source": [],
      "metadata": {
        "id": "3Tc_bxoY6oTF"
      },
      "execution_count": null,
      "outputs": []
    }
  ]
}