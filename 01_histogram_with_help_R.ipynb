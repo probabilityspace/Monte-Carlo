{
  "cells": [
    {
      "cell_type": "markdown",
      "metadata": {
        "id": "Nma_JWh-W-IF"
      },
      "source": [
        "<div class=\"markdown-google-sans\">\n",
        "  <h1>Welcome to Monte Carlo Methods!</h1>\n",
        "</div>\n",
        "\n",
        "This is a Jupyter notebook. It is a place to organize executable code with lots of nice annotation around it. You have likely been directed here from [youtube.com/aprobabilityspace](https://www.youtube.com/aprobabilityspace).\n",
        "\n",
        "If you are already comfortable with R and Jupyter notebooks, you would probably prefer to switch to [this link](https://github.com/probabilityspace/Monte-Carlo/blob/main/01_histogram.ipynb) to get the straight R code you are looking for without all of the extra tutorial stuff included here."
      ]
    },
    {
      "cell_type": "markdown",
      "metadata": {
        "id": "5fCEDCU_qrC0"
      },
      "source": [
        "<div class=\"markdown-google-sans\">\n",
        "  <h2>This is a cell.</h2>\n",
        "</div>\n",
        "\n",
        "Single-click anywhere on this sentence. You will see that it is contained in a box. This box is called a \"cell\". If you double-click, you will see the raw text (markdown) required to make this cell. Click anywhere outside of the cell to go back to nice looking text.\n"
      ]
    },
    {
      "cell_type": "markdown",
      "metadata": {
        "id": "GJBs_flRovLc"
      },
      "source": [
        "<div class=\"markdown-google-sans\">\n",
        "\n",
        "## **2+3**\n",
        "</div>\n",
        "\n",
        "We have to start somewhere. Don't worry, this will ramp up pretty quickly to where we are doing interesting things! Just below this cell is a \"code cell\". You are going to ask R to add the numbers 2 and 3. To execute the code in the cell below, either\n",
        "- click anywhere in the cell to reveal a play button (if you don't already see one) and then click the play button\n",
        "<br>or\n",
        "-click anywhere in the cell and hit Enter on your keyboard while holding down the Shift key"
      ]
    },
    {
      "cell_type": "code",
      "execution_count": null,
      "metadata": {
        "id": "gJr_9dXGpJ05"
      },
      "outputs": [],
      "source": [
        "2+3"
      ]
    },
    {
      "cell_type": "markdown",
      "metadata": {
        "id": "2fhs6GZ4qFMx"
      },
      "source": [
        "Fantastic! In the next cell you will see the setup for the same calculation. Click at the end of the (line after the 3) to put your cursor in the cell. Hit Enter (**without** holding the Shift key). This will move you to the next line. On this next line, type any other sum that you would like to compute. Run the cell."
      ]
    },
    {
      "cell_type": "code",
      "execution_count": null,
      "metadata": {
        "id": "-gE-Ez1qtyIA"
      },
      "outputs": [],
      "source": [
        "2+3"
      ]
    },
    {
      "cell_type": "markdown",
      "metadata": {
        "id": "lSrWNr3MuFUS"
      },
      "source": [
        "Wow! Two calculations in one cell. How exciting!"
      ]
    },
    {
      "cell_type": "markdown",
      "metadata": {
        "id": "UdRyKR44dcNI"
      },
      "source": [
        "<div class=\"markdown-google-sans\">\n",
        "\n",
        "## Basic Math, Variables, and Vectors\n",
        "</div>\n",
        "\n",
        "Suppose we wish to calculate the square root of 5. For most software, we would type <code>sqrt(5)</code>. R is no exception. Run the next cell and be amazed!"
      ]
    },
    {
      "cell_type": "code",
      "execution_count": null,
      "metadata": {
        "id": "C4HZx7Gndbrh"
      },
      "outputs": [],
      "source": [
        "sqrt(5)"
      ]
    },
    {
      "cell_type": "markdown",
      "metadata": {
        "id": "4_kCnsPUqS6o"
      },
      "source": [
        "The syntax for most standard math functions is pretty \"guessable\" in R. Take a look at the next cell and see if you can guess the result of each line. Note the \"comments\" included with each line. When a line or part of a line starts with a hashtag, it will be ignored by the R compiler. Run the cell."
      ]
    },
    {
      "cell_type": "code",
      "source": [
        "abs(-2.3)    # absolute value\n",
        "log(3.8774)  # natural log\n",
        "pi           # a stored constant\n",
        "sin(pi/2)    # a trig function\n",
        "exp(1)       # the constant e (e to the first power)\n",
        "2^3          # exponents"
      ],
      "metadata": {
        "id": "m-YCIJSiDLXD"
      },
      "execution_count": null,
      "outputs": []
    },
    {
      "cell_type": "markdown",
      "source": [
        "Let's make some variables. In the next cell, we will define the variable x to be 3 and the variable y to be 4. Note the assignment operator which is a left arrow made by typing a left caret followed by a dash. You could also use \"equals signs\" and type <code>x=3</code>, for example, but the left arrow is prefered by R purists. This is partially for historical reasons and partially because the equals sign can cause issues in some high-level functions."
      ],
      "metadata": {
        "id": "L0uLFpg4g0it"
      }
    },
    {
      "cell_type": "code",
      "source": [
        "x <- 3\n",
        "y <- 4\n",
        "x+y"
      ],
      "metadata": {
        "id": "RUIfOjGFgZ0W"
      },
      "execution_count": null,
      "outputs": []
    },
    {
      "cell_type": "markdown",
      "source": [
        "Vector variables are defined using the letter \"c\" as seen in the following cell. To avoid strange conflicting behavior, you should refrain from using c as a variable name."
      ],
      "metadata": {
        "id": "_Ii5rJQujWZk"
      }
    },
    {
      "cell_type": "code",
      "source": [
        "x <- c(5,3,8)\n",
        "x"
      ],
      "metadata": {
        "id": "lo7BsvS_kGjl"
      },
      "execution_count": null,
      "outputs": []
    },
    {
      "cell_type": "markdown",
      "source": [
        "We can grab the first element of the vector by typing <code>x[1]</code>. Note that R indexes elements in a vector starting from 1 as opposed to some other languages (like Python) that index vectors starting from 0.\n",
        "\n",
        "Can you guess what the output will be if you run the next cell? Try it!"
      ],
      "metadata": {
        "id": "yHNXiu_pkSe8"
      }
    },
    {
      "cell_type": "code",
      "source": [
        "y <- c(3,11,-1)\n",
        "x+y\n",
        "x[1]+y[3]"
      ],
      "metadata": {
        "id": "DcxLQC9klAQ0"
      },
      "execution_count": null,
      "outputs": []
    },
    {
      "cell_type": "markdown",
      "source": [
        "By the way, you can add a text cell or a code cell at any time by going up to the Insert menu above. This will insert a new cell just below the one where you have the active cursor. Let's try it. Single click on this text cell to make it the active cell, open the Insert menu, and select either \"Code cell\" or \"Text cell\". Woot!"
      ],
      "metadata": {
        "id": "m0ZSE6fqDUKi"
      }
    },
    {
      "cell_type": "markdown",
      "metadata": {
        "id": "OwuxHmxllTwN"
      },
      "source": [
        "<div class=\"markdown-google-sans\">\n",
        "\n",
        "## The Histogram\n",
        "</div>\n",
        "\n",
        "Let's now generate 100,000 values from the exponential distribution with rate 2.2. We are going to do this with a \"black box function\" in R. That is, we're going to ask for exponentials and we're going to magically get some values that follow the exponential distribution. The point of this simulation course is to know what is going on \"under the hood\", but the point of this particular notebook is just to make the histogram. So, black box it is... for now.\n",
        "\n",
        "Run the next cell.\n"
      ]
    },
    {
      "cell_type": "code",
      "source": [
        "# Generate exponentials with rate 2 with built-in \"black box\"\n",
        "rate <- 2.2\n",
        "mysample <- rexp(100000,rate)"
      ],
      "metadata": {
        "id": "DSZJd5sCHNpP"
      },
      "execution_count": null,
      "outputs": []
    },
    {
      "cell_type": "markdown",
      "source": [
        "The function \"rexp\" takes two arguments. The first is the number of values you wish to generate and the second is the rate parameter.  Here, we have created a vector of numbers called \"mysample\".\n",
        "\n",
        "Let's check the length of the output by running the next cell."
      ],
      "metadata": {
        "id": "jVfSZJK1HZ7L"
      }
    },
    {
      "cell_type": "code",
      "source": [
        "length(mysample)"
      ],
      "metadata": {
        "id": "KUzU_dWSHY3f"
      },
      "execution_count": null,
      "outputs": []
    },
    {
      "cell_type": "markdown",
      "source": [
        "Let's check that the rate parameter is really 2.2. Recall that the rate of the exponential distribution is one over the mean. Run the next cell."
      ],
      "metadata": {
        "id": "5x9Mp7vbI4rK"
      }
    },
    {
      "cell_type": "code",
      "source": [
        "1/mean(mysample)"
      ],
      "metadata": {
        "id": "ESVEAihXIxEv"
      },
      "execution_count": null,
      "outputs": []
    },
    {
      "cell_type": "markdown",
      "source": [
        "Does this seem right to you? An exact 95% confidence interval for the rate parameter is (2.186 , 2.214). You might add the line\n",
        "\n",
        "<code>mysample <- rexp(100000,rate)</code>\n",
        "\n",
        "as the first line in the cell above and rerun it several time so that you can check out different values you might get for different samples!\n",
        "\n",
        ">Aside: Yes, there is rounding here for the endpoints of the confidence interval. By an \"exact\" confidence interval, we mean that this confidence interval was based on the underlying exponential distribution and not a normal approximation using the Central Limit Theorem. To construct a confidence interval like this, you need to know [Mathematical Statistics](https://www.youtube.com/playlist?list=PLLyj1Zd4UWrOk5-wIki_oOxHJnNj0_437)."
      ],
      "metadata": {
        "id": "dHDec1YzJkEZ"
      }
    },
    {
      "cell_type": "markdown",
      "source": [
        "Let's make a rather crude histogram using a function called \"hist\". Run the next cell.\n"
      ],
      "metadata": {
        "id": "BNYCGtnxZ_Cx"
      }
    },
    {
      "cell_type": "code",
      "source": [
        "hist(mysample)"
      ],
      "metadata": {
        "id": "qWAJXB3_Jz6N"
      },
      "execution_count": null,
      "outputs": []
    },
    {
      "cell_type": "markdown",
      "source": [
        "<div class=\"markdown-google-sans\">\n",
        "\n",
        "Note that the \"hist\" function put counts on the y-axis by default. We discussed a preference towards using density on the y-axis. We can change this by including a statement <code>prob=T</code> (read probability equals True) as seen in the next cell.\n",
        "\n",
        "We will also get a more detailed look at the distribution of our sampled values by changing the default breakpoints used here to the finer breakpoints 0,0.1,0.2,..., continuing up to the maximum sampled value with a little extra to get us up to make sure the right endpoint of the last bin is large enough to contain all of the data.\n",
        "\n",
        "In the next cell, we will define the bins to be 0.1 units wide, change to density on the y-axis and change the color of the bars just for fun. Run the next cell."
      ],
      "metadata": {
        "id": "NPztWOQHaV3I"
      }
    },
    {
      "cell_type": "code",
      "source": [
        "## Make a histogram\n",
        "\n",
        "# First define the bins by a sequence of numbers 0, 0.1, 0.2, 0.3,...\n",
        "br <- seq(0,max(mysample)+0.1,0.1)\n",
        "hist(mysample,breaks=br, prob=T,col=\"lightblue\")\n"
      ],
      "metadata": {
        "id": "5-hr145jZvfN"
      },
      "execution_count": null,
      "outputs": []
    },
    {
      "cell_type": "markdown",
      "source": [
        "To finish this off, we are going to overlay the true, exponential rate 2.2 probability density function on the histogram. we will draw this by making a fine mesh of points that we will connect with lines."
      ],
      "metadata": {
        "id": "7cdw2rQIcpjn"
      }
    },
    {
      "cell_type": "code",
      "source": [
        "## Make a histogram\n",
        "\n",
        "# First define the bins by a sequence of numbers 0, 0.1, 0.2, 0.3,...\n",
        "br <- seq(0,max(mysample)+0.1,0.1)\n",
        "\n",
        "# Define the histogram using density, the new bins, and a light blue color.\n",
        "hist(mysample,breaks=br, prob=T,col=\"lightblue\")\n",
        "\n",
        "# Superimpose true pdf\n",
        "x <-seq(0,5,0.01)          # Set out some x values from 0 to 5\n",
        "y <- 2.2*exp(-2.2*x)       # Evaluate the pdf at each x value\n",
        "lines(x,y)                 # Add the line/curve to the plot."
      ],
      "metadata": {
        "id": "M4_tLv1qbX6A"
      },
      "execution_count": null,
      "outputs": []
    },
    {
      "cell_type": "markdown",
      "source": [
        "Beautiful! If you would like a clean copy of the code in this notebook without all of the extra discussion, [click here!](https://github.com/probabilityspace/Monte-Carlo/blob/519ddb402b51bb8457f65721a14ff18805cc0ae2/01_histogram_R.ipynb)"
      ],
      "metadata": {
        "id": "DgRRavTke9i7"
      }
    },
    {
      "cell_type": "code",
      "source": [],
      "metadata": {
        "id": "oGy7OIaefRQ_"
      },
      "execution_count": null,
      "outputs": []
    }
  ],
  "metadata": {
    "colab": {
      "provenance": []
    },
    "kernelspec": {
      "display_name": "R",
      "name": "ir"
    },
    "language_info": {
      "name": "R"
    }
  },
  "nbformat": 4,
  "nbformat_minor": 0
}