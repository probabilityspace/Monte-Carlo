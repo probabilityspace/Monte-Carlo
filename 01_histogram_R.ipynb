{
  "nbformat": 4,
  "nbformat_minor": 0,
  "metadata": {
    "colab": {
      "provenance": [],
      "authorship_tag": "ABX9TyMzir7dqjELAKZ2VPL+TawU"
    },
    "kernelspec": {
      "name": "ir",
      "display_name": "R"
    },
    "language_info": {
      "name": "R"
    }
  },
  "cells": [
    {
      "cell_type": "code",
      "execution_count": null,
      "metadata": {
        "id": "keFAlgqQt_Ka"
      },
      "outputs": [],
      "source": [
        "# Generate exponentials with rate 2 with built-in \"black box\"\n",
        "rate <- 2.2\n",
        "mysample <- rexp(100000,rate)"
      ]
    },
    {
      "cell_type": "code",
      "source": [
        "# Make a histogram\n",
        "br = seq(0,max(mysample)+0.1,0.1)\n",
        "hist(mysample,breaks=br,prob=T,col=\"lightblue\")\n",
        "\n",
        "# Superimpose true pdf\n",
        "x <- seq(0,5,0.01)\n",
        "y <- rate*exp(-rate*x)\n",
        "lines(x,y)"
      ],
      "metadata": {
        "id": "n02MuKqHurpn"
      },
      "execution_count": null,
      "outputs": []
    },
    {
      "cell_type": "code",
      "source": [],
      "metadata": {
        "id": "I2mWHb6AuG5H"
      },
      "execution_count": null,
      "outputs": []
    }
  ]
}