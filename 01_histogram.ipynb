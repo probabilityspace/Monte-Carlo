{
  "nbformat": 4,
  "nbformat_minor": 0,
  "metadata": {
    "colab": {
      "provenance": []
    },
    "kernelspec": {
      "name": "python3",
      "display_name": "Python 3"
    },
    "language_info": {
      "name": "python"
    }
  },
  "cells": [
    {
      "cell_type": "code",
      "execution_count": null,
      "metadata": {
        "id": "xpSKr7hDSH6W"
      },
      "outputs": [],
      "source": [
        "# Load required libraries\n",
        "import numpy as np\n",
        "import matplotlib.pyplot as plt"
      ]
    },
    {
      "cell_type": "code",
      "source": [
        "# Generate exponentials with rate 2.2 with built-in \"black box\"\n",
        "rate = 2.2\n",
        "mysample = np.random.exponential(1/rate,100000)"
      ],
      "metadata": {
        "id": "GoPOt_VFSM0y"
      },
      "execution_count": null,
      "outputs": []
    },
    {
      "cell_type": "code",
      "source": [
        "# Make a histogram\n",
        "br = np.arange(0,np.max(mysample),0.1)\n",
        "plt.hist(mysample,bins=br,density=True,color=\"lightyellow\",ec=\"black\",lw=0.5)\n",
        "\n",
        "# Superimpose true pdf\n",
        "x = np.linspace(0,5,100)\n",
        "f = rate*np.exp(-rate*x)\n",
        "plt.plot(x,f)\n",
        "\n",
        "plt.show()"
      ],
      "metadata": {
        "id": "bsLVtQ3USRs_"
      },
      "execution_count": null,
      "outputs": []
    },
    {
      "cell_type": "code",
      "source": [],
      "metadata": {
        "id": "ggfaYNQaSnTY"
      },
      "execution_count": null,
      "outputs": []
    }
  ]
}